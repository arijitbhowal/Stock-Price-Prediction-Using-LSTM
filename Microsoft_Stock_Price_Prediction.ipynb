{
  "nbformat": 4,
  "nbformat_minor": 0,
  "metadata": {
    "colab": {
      "provenance": [],
      "gpuType": "T4"
    },
    "kernelspec": {
      "name": "python3",
      "display_name": "Python 3"
    },
    "accelerator": "GPU"
  },
  "cells": [
    {
      "cell_type": "markdown",
      "metadata": {
        "id": "xpAuMVCwfWs8"
      },
      "source": [
        "# Recurrent Neural Network"
      ]
    },
    {
      "cell_type": "markdown",
      "metadata": {
        "id": "nxJfRe4bfYVA"
      },
      "source": [
        "## Part 1 - Data Preprocessing"
      ]
    },
    {
      "cell_type": "markdown",
      "metadata": {
        "id": "ir9zwETrfbrp"
      },
      "source": [
        "### Importing the libraries"
      ]
    },
    {
      "cell_type": "code",
      "metadata": {
        "id": "ZT1f24vHffuf"
      },
      "source": [
        "import numpy as np\n",
        "import matplotlib.pyplot as plt\n",
        "import pandas as pd"
      ],
      "execution_count": 10,
      "outputs": []
    },
    {
      "cell_type": "markdown",
      "metadata": {
        "id": "nQ47JAxrgmaL"
      },
      "source": [
        "### Importing the training set"
      ]
    },
    {
      "cell_type": "code",
      "metadata": {
        "id": "1xiv3pJOgqY3"
      },
      "source": [
        "dataset_train = pd.read_csv('MSFT_Train.csv')\n",
        "training_set = dataset_train.iloc[:, 1:2].values"
      ],
      "execution_count": 11,
      "outputs": []
    },
    {
      "cell_type": "code",
      "source": [
        "training_set"
      ],
      "metadata": {
        "id": "fz87tUCW1zWd",
        "outputId": "b31a904d-5c93-43fc-c365-1c25356c8529",
        "colab": {
          "base_uri": "https://localhost:8080/"
        }
      },
      "execution_count": 12,
      "outputs": [
        {
          "output_type": "execute_result",
          "data": {
            "text/plain": [
              "array([[ 30.620001],\n",
              "       [ 30.85    ],\n",
              "       [ 30.879999],\n",
              "       ...,\n",
              "       [330.089996],\n",
              "       [337.23999 ],\n",
              "       [335.820007]])"
            ]
          },
          "metadata": {},
          "execution_count": 12
        }
      ]
    },
    {
      "cell_type": "code",
      "source": [
        "dataset_train"
      ],
      "metadata": {
        "id": "hqnRCumj1uk_",
        "outputId": "3fefd179-dc0d-4972-e5ce-1f2cd4a57989",
        "colab": {
          "base_uri": "https://localhost:8080/",
          "height": 423
        }
      },
      "execution_count": 13,
      "outputs": [
        {
          "output_type": "execute_result",
          "data": {
            "text/plain": [
              "            Date        Open        High         Low       Close   Adj Close  \\\n",
              "0     2010-01-04   30.620001   31.100000   30.590000   30.950001   23.522566   \n",
              "1     2010-01-05   30.850000   31.100000   30.639999   30.959999   23.530165   \n",
              "2     2010-01-06   30.879999   31.080000   30.520000   30.770000   23.385763   \n",
              "3     2010-01-07   30.629999   30.700001   30.190001   30.450001   23.142551   \n",
              "4     2010-01-08   30.280001   30.879999   30.240000   30.660000   23.302160   \n",
              "...          ...         ...         ...         ...         ...         ...   \n",
              "3441  2023-09-06  333.380005  334.459991  330.179993  332.880005  332.880005   \n",
              "3442  2023-09-07  331.290009  333.079987  329.029999  329.910004  329.910004   \n",
              "3443  2023-09-08  330.089996  336.160004  329.459991  334.269989  334.269989   \n",
              "3444  2023-09-11  337.239990  338.420013  335.429993  337.940002  337.940002   \n",
              "3445  2023-09-12  335.820007  336.790009  331.480011  331.769989  331.769989   \n",
              "\n",
              "        Volume  \n",
              "0     38409100  \n",
              "1     49749600  \n",
              "2     58182400  \n",
              "3     50559700  \n",
              "4     51197400  \n",
              "...        ...  \n",
              "3441  17535800  \n",
              "3442  18381000  \n",
              "3443  19530100  \n",
              "3444  16583300  \n",
              "3445  17551800  \n",
              "\n",
              "[3446 rows x 7 columns]"
            ],
            "text/html": [
              "\n",
              "  <div id=\"df-c474cdb8-844f-49c4-b499-8ec7f7ceea86\" class=\"colab-df-container\">\n",
              "    <div>\n",
              "<style scoped>\n",
              "    .dataframe tbody tr th:only-of-type {\n",
              "        vertical-align: middle;\n",
              "    }\n",
              "\n",
              "    .dataframe tbody tr th {\n",
              "        vertical-align: top;\n",
              "    }\n",
              "\n",
              "    .dataframe thead th {\n",
              "        text-align: right;\n",
              "    }\n",
              "</style>\n",
              "<table border=\"1\" class=\"dataframe\">\n",
              "  <thead>\n",
              "    <tr style=\"text-align: right;\">\n",
              "      <th></th>\n",
              "      <th>Date</th>\n",
              "      <th>Open</th>\n",
              "      <th>High</th>\n",
              "      <th>Low</th>\n",
              "      <th>Close</th>\n",
              "      <th>Adj Close</th>\n",
              "      <th>Volume</th>\n",
              "    </tr>\n",
              "  </thead>\n",
              "  <tbody>\n",
              "    <tr>\n",
              "      <th>0</th>\n",
              "      <td>2010-01-04</td>\n",
              "      <td>30.620001</td>\n",
              "      <td>31.100000</td>\n",
              "      <td>30.590000</td>\n",
              "      <td>30.950001</td>\n",
              "      <td>23.522566</td>\n",
              "      <td>38409100</td>\n",
              "    </tr>\n",
              "    <tr>\n",
              "      <th>1</th>\n",
              "      <td>2010-01-05</td>\n",
              "      <td>30.850000</td>\n",
              "      <td>31.100000</td>\n",
              "      <td>30.639999</td>\n",
              "      <td>30.959999</td>\n",
              "      <td>23.530165</td>\n",
              "      <td>49749600</td>\n",
              "    </tr>\n",
              "    <tr>\n",
              "      <th>2</th>\n",
              "      <td>2010-01-06</td>\n",
              "      <td>30.879999</td>\n",
              "      <td>31.080000</td>\n",
              "      <td>30.520000</td>\n",
              "      <td>30.770000</td>\n",
              "      <td>23.385763</td>\n",
              "      <td>58182400</td>\n",
              "    </tr>\n",
              "    <tr>\n",
              "      <th>3</th>\n",
              "      <td>2010-01-07</td>\n",
              "      <td>30.629999</td>\n",
              "      <td>30.700001</td>\n",
              "      <td>30.190001</td>\n",
              "      <td>30.450001</td>\n",
              "      <td>23.142551</td>\n",
              "      <td>50559700</td>\n",
              "    </tr>\n",
              "    <tr>\n",
              "      <th>4</th>\n",
              "      <td>2010-01-08</td>\n",
              "      <td>30.280001</td>\n",
              "      <td>30.879999</td>\n",
              "      <td>30.240000</td>\n",
              "      <td>30.660000</td>\n",
              "      <td>23.302160</td>\n",
              "      <td>51197400</td>\n",
              "    </tr>\n",
              "    <tr>\n",
              "      <th>...</th>\n",
              "      <td>...</td>\n",
              "      <td>...</td>\n",
              "      <td>...</td>\n",
              "      <td>...</td>\n",
              "      <td>...</td>\n",
              "      <td>...</td>\n",
              "      <td>...</td>\n",
              "    </tr>\n",
              "    <tr>\n",
              "      <th>3441</th>\n",
              "      <td>2023-09-06</td>\n",
              "      <td>333.380005</td>\n",
              "      <td>334.459991</td>\n",
              "      <td>330.179993</td>\n",
              "      <td>332.880005</td>\n",
              "      <td>332.880005</td>\n",
              "      <td>17535800</td>\n",
              "    </tr>\n",
              "    <tr>\n",
              "      <th>3442</th>\n",
              "      <td>2023-09-07</td>\n",
              "      <td>331.290009</td>\n",
              "      <td>333.079987</td>\n",
              "      <td>329.029999</td>\n",
              "      <td>329.910004</td>\n",
              "      <td>329.910004</td>\n",
              "      <td>18381000</td>\n",
              "    </tr>\n",
              "    <tr>\n",
              "      <th>3443</th>\n",
              "      <td>2023-09-08</td>\n",
              "      <td>330.089996</td>\n",
              "      <td>336.160004</td>\n",
              "      <td>329.459991</td>\n",
              "      <td>334.269989</td>\n",
              "      <td>334.269989</td>\n",
              "      <td>19530100</td>\n",
              "    </tr>\n",
              "    <tr>\n",
              "      <th>3444</th>\n",
              "      <td>2023-09-11</td>\n",
              "      <td>337.239990</td>\n",
              "      <td>338.420013</td>\n",
              "      <td>335.429993</td>\n",
              "      <td>337.940002</td>\n",
              "      <td>337.940002</td>\n",
              "      <td>16583300</td>\n",
              "    </tr>\n",
              "    <tr>\n",
              "      <th>3445</th>\n",
              "      <td>2023-09-12</td>\n",
              "      <td>335.820007</td>\n",
              "      <td>336.790009</td>\n",
              "      <td>331.480011</td>\n",
              "      <td>331.769989</td>\n",
              "      <td>331.769989</td>\n",
              "      <td>17551800</td>\n",
              "    </tr>\n",
              "  </tbody>\n",
              "</table>\n",
              "<p>3446 rows × 7 columns</p>\n",
              "</div>\n",
              "    <div class=\"colab-df-buttons\">\n",
              "\n",
              "  <div class=\"colab-df-container\">\n",
              "    <button class=\"colab-df-convert\" onclick=\"convertToInteractive('df-c474cdb8-844f-49c4-b499-8ec7f7ceea86')\"\n",
              "            title=\"Convert this dataframe to an interactive table.\"\n",
              "            style=\"display:none;\">\n",
              "\n",
              "  <svg xmlns=\"http://www.w3.org/2000/svg\" height=\"24px\" viewBox=\"0 -960 960 960\">\n",
              "    <path d=\"M120-120v-720h720v720H120Zm60-500h600v-160H180v160Zm220 220h160v-160H400v160Zm0 220h160v-160H400v160ZM180-400h160v-160H180v160Zm440 0h160v-160H620v160ZM180-180h160v-160H180v160Zm440 0h160v-160H620v160Z\"/>\n",
              "  </svg>\n",
              "    </button>\n",
              "\n",
              "  <style>\n",
              "    .colab-df-container {\n",
              "      display:flex;\n",
              "      gap: 12px;\n",
              "    }\n",
              "\n",
              "    .colab-df-convert {\n",
              "      background-color: #E8F0FE;\n",
              "      border: none;\n",
              "      border-radius: 50%;\n",
              "      cursor: pointer;\n",
              "      display: none;\n",
              "      fill: #1967D2;\n",
              "      height: 32px;\n",
              "      padding: 0 0 0 0;\n",
              "      width: 32px;\n",
              "    }\n",
              "\n",
              "    .colab-df-convert:hover {\n",
              "      background-color: #E2EBFA;\n",
              "      box-shadow: 0px 1px 2px rgba(60, 64, 67, 0.3), 0px 1px 3px 1px rgba(60, 64, 67, 0.15);\n",
              "      fill: #174EA6;\n",
              "    }\n",
              "\n",
              "    .colab-df-buttons div {\n",
              "      margin-bottom: 4px;\n",
              "    }\n",
              "\n",
              "    [theme=dark] .colab-df-convert {\n",
              "      background-color: #3B4455;\n",
              "      fill: #D2E3FC;\n",
              "    }\n",
              "\n",
              "    [theme=dark] .colab-df-convert:hover {\n",
              "      background-color: #434B5C;\n",
              "      box-shadow: 0px 1px 3px 1px rgba(0, 0, 0, 0.15);\n",
              "      filter: drop-shadow(0px 1px 2px rgba(0, 0, 0, 0.3));\n",
              "      fill: #FFFFFF;\n",
              "    }\n",
              "  </style>\n",
              "\n",
              "    <script>\n",
              "      const buttonEl =\n",
              "        document.querySelector('#df-c474cdb8-844f-49c4-b499-8ec7f7ceea86 button.colab-df-convert');\n",
              "      buttonEl.style.display =\n",
              "        google.colab.kernel.accessAllowed ? 'block' : 'none';\n",
              "\n",
              "      async function convertToInteractive(key) {\n",
              "        const element = document.querySelector('#df-c474cdb8-844f-49c4-b499-8ec7f7ceea86');\n",
              "        const dataTable =\n",
              "          await google.colab.kernel.invokeFunction('convertToInteractive',\n",
              "                                                    [key], {});\n",
              "        if (!dataTable) return;\n",
              "\n",
              "        const docLinkHtml = 'Like what you see? Visit the ' +\n",
              "          '<a target=\"_blank\" href=https://colab.research.google.com/notebooks/data_table.ipynb>data table notebook</a>'\n",
              "          + ' to learn more about interactive tables.';\n",
              "        element.innerHTML = '';\n",
              "        dataTable['output_type'] = 'display_data';\n",
              "        await google.colab.output.renderOutput(dataTable, element);\n",
              "        const docLink = document.createElement('div');\n",
              "        docLink.innerHTML = docLinkHtml;\n",
              "        element.appendChild(docLink);\n",
              "      }\n",
              "    </script>\n",
              "  </div>\n",
              "\n",
              "\n",
              "<div id=\"df-9738fea6-b993-4f69-9187-6dfab7b538f3\">\n",
              "  <button class=\"colab-df-quickchart\" onclick=\"quickchart('df-9738fea6-b993-4f69-9187-6dfab7b538f3')\"\n",
              "            title=\"Suggest charts.\"\n",
              "            style=\"display:none;\">\n",
              "\n",
              "<svg xmlns=\"http://www.w3.org/2000/svg\" height=\"24px\"viewBox=\"0 0 24 24\"\n",
              "     width=\"24px\">\n",
              "    <g>\n",
              "        <path d=\"M19 3H5c-1.1 0-2 .9-2 2v14c0 1.1.9 2 2 2h14c1.1 0 2-.9 2-2V5c0-1.1-.9-2-2-2zM9 17H7v-7h2v7zm4 0h-2V7h2v10zm4 0h-2v-4h2v4z\"/>\n",
              "    </g>\n",
              "</svg>\n",
              "  </button>\n",
              "\n",
              "<style>\n",
              "  .colab-df-quickchart {\n",
              "      --bg-color: #E8F0FE;\n",
              "      --fill-color: #1967D2;\n",
              "      --hover-bg-color: #E2EBFA;\n",
              "      --hover-fill-color: #174EA6;\n",
              "      --disabled-fill-color: #AAA;\n",
              "      --disabled-bg-color: #DDD;\n",
              "  }\n",
              "\n",
              "  [theme=dark] .colab-df-quickchart {\n",
              "      --bg-color: #3B4455;\n",
              "      --fill-color: #D2E3FC;\n",
              "      --hover-bg-color: #434B5C;\n",
              "      --hover-fill-color: #FFFFFF;\n",
              "      --disabled-bg-color: #3B4455;\n",
              "      --disabled-fill-color: #666;\n",
              "  }\n",
              "\n",
              "  .colab-df-quickchart {\n",
              "    background-color: var(--bg-color);\n",
              "    border: none;\n",
              "    border-radius: 50%;\n",
              "    cursor: pointer;\n",
              "    display: none;\n",
              "    fill: var(--fill-color);\n",
              "    height: 32px;\n",
              "    padding: 0;\n",
              "    width: 32px;\n",
              "  }\n",
              "\n",
              "  .colab-df-quickchart:hover {\n",
              "    background-color: var(--hover-bg-color);\n",
              "    box-shadow: 0 1px 2px rgba(60, 64, 67, 0.3), 0 1px 3px 1px rgba(60, 64, 67, 0.15);\n",
              "    fill: var(--button-hover-fill-color);\n",
              "  }\n",
              "\n",
              "  .colab-df-quickchart-complete:disabled,\n",
              "  .colab-df-quickchart-complete:disabled:hover {\n",
              "    background-color: var(--disabled-bg-color);\n",
              "    fill: var(--disabled-fill-color);\n",
              "    box-shadow: none;\n",
              "  }\n",
              "\n",
              "  .colab-df-spinner {\n",
              "    border: 2px solid var(--fill-color);\n",
              "    border-color: transparent;\n",
              "    border-bottom-color: var(--fill-color);\n",
              "    animation:\n",
              "      spin 1s steps(1) infinite;\n",
              "  }\n",
              "\n",
              "  @keyframes spin {\n",
              "    0% {\n",
              "      border-color: transparent;\n",
              "      border-bottom-color: var(--fill-color);\n",
              "      border-left-color: var(--fill-color);\n",
              "    }\n",
              "    20% {\n",
              "      border-color: transparent;\n",
              "      border-left-color: var(--fill-color);\n",
              "      border-top-color: var(--fill-color);\n",
              "    }\n",
              "    30% {\n",
              "      border-color: transparent;\n",
              "      border-left-color: var(--fill-color);\n",
              "      border-top-color: var(--fill-color);\n",
              "      border-right-color: var(--fill-color);\n",
              "    }\n",
              "    40% {\n",
              "      border-color: transparent;\n",
              "      border-right-color: var(--fill-color);\n",
              "      border-top-color: var(--fill-color);\n",
              "    }\n",
              "    60% {\n",
              "      border-color: transparent;\n",
              "      border-right-color: var(--fill-color);\n",
              "    }\n",
              "    80% {\n",
              "      border-color: transparent;\n",
              "      border-right-color: var(--fill-color);\n",
              "      border-bottom-color: var(--fill-color);\n",
              "    }\n",
              "    90% {\n",
              "      border-color: transparent;\n",
              "      border-bottom-color: var(--fill-color);\n",
              "    }\n",
              "  }\n",
              "</style>\n",
              "\n",
              "  <script>\n",
              "    async function quickchart(key) {\n",
              "      const quickchartButtonEl =\n",
              "        document.querySelector('#' + key + ' button');\n",
              "      quickchartButtonEl.disabled = true;  // To prevent multiple clicks.\n",
              "      quickchartButtonEl.classList.add('colab-df-spinner');\n",
              "      try {\n",
              "        const charts = await google.colab.kernel.invokeFunction(\n",
              "            'suggestCharts', [key], {});\n",
              "      } catch (error) {\n",
              "        console.error('Error during call to suggestCharts:', error);\n",
              "      }\n",
              "      quickchartButtonEl.classList.remove('colab-df-spinner');\n",
              "      quickchartButtonEl.classList.add('colab-df-quickchart-complete');\n",
              "    }\n",
              "    (() => {\n",
              "      let quickchartButtonEl =\n",
              "        document.querySelector('#df-9738fea6-b993-4f69-9187-6dfab7b538f3 button');\n",
              "      quickchartButtonEl.style.display =\n",
              "        google.colab.kernel.accessAllowed ? 'block' : 'none';\n",
              "    })();\n",
              "  </script>\n",
              "</div>\n",
              "    </div>\n",
              "  </div>\n"
            ]
          },
          "metadata": {},
          "execution_count": 13
        }
      ]
    },
    {
      "cell_type": "markdown",
      "metadata": {
        "id": "HT8_2UJegtG5"
      },
      "source": [
        "### Feature Scaling"
      ]
    },
    {
      "cell_type": "code",
      "metadata": {
        "id": "OTrF2kR7gx9x"
      },
      "source": [
        "from sklearn.preprocessing import MinMaxScaler\n",
        "sc = MinMaxScaler(feature_range = (0, 1))\n",
        "training_set_scaled = sc.fit_transform(training_set)"
      ],
      "execution_count": 14,
      "outputs": []
    },
    {
      "cell_type": "markdown",
      "metadata": {
        "id": "JyYgYocqhNUg"
      },
      "source": [
        "### Creating a data structure with 60 timesteps and 1 output"
      ]
    },
    {
      "cell_type": "code",
      "metadata": {
        "id": "iofU21B0i6ST"
      },
      "source": [
        "X_train = []\n",
        "y_train = []\n",
        "for i in range(60, len(training_set_scaled)):\n",
        "    X_train.append(training_set_scaled[i-60:i, 0])\n",
        "    y_train.append(training_set_scaled[i, 0])\n",
        "X_train, y_train = np.array(X_train), np.array(y_train)"
      ],
      "execution_count": 15,
      "outputs": []
    },
    {
      "cell_type": "markdown",
      "metadata": {
        "id": "D8yaN7Zvi95l"
      },
      "source": [
        "### Reshaping"
      ]
    },
    {
      "cell_type": "code",
      "metadata": {
        "id": "FOXqJHmNjBkz"
      },
      "source": [
        "X_train = np.reshape(X_train, (X_train.shape[0], X_train.shape[1], 1))"
      ],
      "execution_count": 16,
      "outputs": []
    },
    {
      "cell_type": "markdown",
      "metadata": {
        "id": "ZRRSOJeVjEWV"
      },
      "source": [
        "## Part 2 - Building and Training the RNN"
      ]
    },
    {
      "cell_type": "markdown",
      "metadata": {
        "id": "k4XV88JMjHXG"
      },
      "source": [
        "### Importing the Keras libraries and packages"
      ]
    },
    {
      "cell_type": "code",
      "metadata": {
        "id": "9JRnqsxEjKsD"
      },
      "source": [
        "from keras.models import Sequential\n",
        "from keras.layers import Dense\n",
        "from keras.layers import LSTM\n",
        "from keras.layers import Dropout"
      ],
      "execution_count": 17,
      "outputs": []
    },
    {
      "cell_type": "markdown",
      "metadata": {
        "id": "FEIE-1s9jNzC"
      },
      "source": [
        "### Initialising the RNN"
      ]
    },
    {
      "cell_type": "code",
      "metadata": {
        "id": "1338dJ0UjRKH"
      },
      "source": [
        "regressor = Sequential()"
      ],
      "execution_count": 18,
      "outputs": []
    },
    {
      "cell_type": "markdown",
      "metadata": {
        "id": "62eg1OPGjT8z"
      },
      "source": [
        "### Adding the first LSTM layer and some Dropout regularisation"
      ]
    },
    {
      "cell_type": "code",
      "metadata": {
        "id": "2hIinyXUjbVU"
      },
      "source": [
        "regressor.add(LSTM(units = 50, return_sequences = True, input_shape = (X_train.shape[1], 1)))\n",
        "regressor.add(Dropout(0.2))"
      ],
      "execution_count": 19,
      "outputs": []
    },
    {
      "cell_type": "markdown",
      "metadata": {
        "id": "3XBIYLyOjlMx"
      },
      "source": [
        "### Adding a second LSTM layer and some Dropout regularisation"
      ]
    },
    {
      "cell_type": "code",
      "metadata": {
        "id": "UG7nrVaSjuZ2"
      },
      "source": [
        "regressor.add(LSTM(units = 50, return_sequences = True))\n",
        "regressor.add(Dropout(0.2))"
      ],
      "execution_count": 20,
      "outputs": []
    },
    {
      "cell_type": "markdown",
      "metadata": {
        "id": "Ey3fHVnGj1cu"
      },
      "source": [
        "### Adding a third LSTM layer and some Dropout regularisation"
      ]
    },
    {
      "cell_type": "code",
      "metadata": {
        "id": "PuNi6PgFj7jO"
      },
      "source": [
        "regressor.add(LSTM(units = 50, return_sequences = True))\n",
        "regressor.add(Dropout(0.2))"
      ],
      "execution_count": 21,
      "outputs": []
    },
    {
      "cell_type": "markdown",
      "metadata": {
        "id": "SYTrtfTmj933"
      },
      "source": [
        "### Adding a fourth LSTM layer and some Dropout regularisation"
      ]
    },
    {
      "cell_type": "code",
      "metadata": {
        "id": "Jp4Ty8fRkBYV"
      },
      "source": [
        "regressor.add(LSTM(units = 50))\n",
        "regressor.add(Dropout(0.2))"
      ],
      "execution_count": 22,
      "outputs": []
    },
    {
      "cell_type": "markdown",
      "metadata": {
        "id": "9ABI6rOIkHhk"
      },
      "source": [
        "### Adding the output layer"
      ]
    },
    {
      "cell_type": "code",
      "metadata": {
        "id": "aM6R1z4WkME8"
      },
      "source": [
        "regressor.add(Dense(units = 1))"
      ],
      "execution_count": 23,
      "outputs": []
    },
    {
      "cell_type": "markdown",
      "metadata": {
        "id": "zLx4K7uUkPSh"
      },
      "source": [
        "### Compiling the RNN"
      ]
    },
    {
      "cell_type": "code",
      "metadata": {
        "id": "XTrhVN-tkbko"
      },
      "source": [
        "regressor.compile(optimizer = 'adam', loss = 'mean_squared_error')"
      ],
      "execution_count": 24,
      "outputs": []
    },
    {
      "cell_type": "markdown",
      "metadata": {
        "id": "-mPhwKGkkebi"
      },
      "source": [
        "### Fitting the RNN to the Training set"
      ]
    },
    {
      "cell_type": "code",
      "metadata": {
        "id": "I06Nkrz5kkb-",
        "colab": {
          "base_uri": "https://localhost:8080/"
        },
        "outputId": "d161431d-56b1-43f4-fa5c-c903a0e1d9bc"
      },
      "source": [
        "regressor.fit(X_train, y_train, epochs = 100, batch_size = 32)"
      ],
      "execution_count": 25,
      "outputs": [
        {
          "output_type": "stream",
          "name": "stdout",
          "text": [
            "Epoch 1/100\n",
            "106/106 [==============================] - 16s 18ms/step - loss: 0.0082\n",
            "Epoch 2/100\n",
            "106/106 [==============================] - 1s 13ms/step - loss: 0.0023\n",
            "Epoch 3/100\n",
            "106/106 [==============================] - 1s 13ms/step - loss: 0.0021\n",
            "Epoch 4/100\n",
            "106/106 [==============================] - 1s 13ms/step - loss: 0.0017\n",
            "Epoch 5/100\n",
            "106/106 [==============================] - 1s 13ms/step - loss: 0.0017\n",
            "Epoch 6/100\n",
            "106/106 [==============================] - 1s 13ms/step - loss: 0.0021\n",
            "Epoch 7/100\n",
            "106/106 [==============================] - 1s 13ms/step - loss: 0.0015\n",
            "Epoch 8/100\n",
            "106/106 [==============================] - 1s 13ms/step - loss: 0.0016\n",
            "Epoch 9/100\n",
            "106/106 [==============================] - 2s 18ms/step - loss: 0.0015\n",
            "Epoch 10/100\n",
            "106/106 [==============================] - 2s 15ms/step - loss: 0.0014\n",
            "Epoch 11/100\n",
            "106/106 [==============================] - 1s 13ms/step - loss: 0.0013\n",
            "Epoch 12/100\n",
            "106/106 [==============================] - 1s 13ms/step - loss: 0.0014\n",
            "Epoch 13/100\n",
            "106/106 [==============================] - 1s 13ms/step - loss: 0.0012\n",
            "Epoch 14/100\n",
            "106/106 [==============================] - 1s 13ms/step - loss: 0.0012\n",
            "Epoch 15/100\n",
            "106/106 [==============================] - 1s 13ms/step - loss: 0.0011\n",
            "Epoch 16/100\n",
            "106/106 [==============================] - 1s 13ms/step - loss: 0.0011\n",
            "Epoch 17/100\n",
            "106/106 [==============================] - 3s 25ms/step - loss: 0.0010\n",
            "Epoch 18/100\n",
            "106/106 [==============================] - 2s 15ms/step - loss: 0.0013\n",
            "Epoch 19/100\n",
            "106/106 [==============================] - 1s 13ms/step - loss: 0.0010\n",
            "Epoch 20/100\n",
            "106/106 [==============================] - 1s 13ms/step - loss: 0.0011\n",
            "Epoch 21/100\n",
            "106/106 [==============================] - 1s 13ms/step - loss: 0.0012\n",
            "Epoch 22/100\n",
            "106/106 [==============================] - 1s 13ms/step - loss: 0.0010\n",
            "Epoch 23/100\n",
            "106/106 [==============================] - 1s 13ms/step - loss: 0.0011\n",
            "Epoch 24/100\n",
            "106/106 [==============================] - 1s 13ms/step - loss: 0.0010\n",
            "Epoch 25/100\n",
            "106/106 [==============================] - 2s 16ms/step - loss: 9.5175e-04\n",
            "Epoch 26/100\n",
            "106/106 [==============================] - 2s 17ms/step - loss: 9.5127e-04\n",
            "Epoch 27/100\n",
            "106/106 [==============================] - 1s 13ms/step - loss: 9.8485e-04\n",
            "Epoch 28/100\n",
            "106/106 [==============================] - 1s 13ms/step - loss: 9.8020e-04\n",
            "Epoch 29/100\n",
            "106/106 [==============================] - 2s 17ms/step - loss: 0.0011\n",
            "Epoch 30/100\n",
            "106/106 [==============================] - 1s 13ms/step - loss: 9.3410e-04\n",
            "Epoch 31/100\n",
            "106/106 [==============================] - 1s 13ms/step - loss: 8.8823e-04\n",
            "Epoch 32/100\n",
            "106/106 [==============================] - 1s 13ms/step - loss: 0.0010\n",
            "Epoch 33/100\n",
            "106/106 [==============================] - 2s 16ms/step - loss: 0.0010\n",
            "Epoch 34/100\n",
            "106/106 [==============================] - 2s 17ms/step - loss: 0.0011\n",
            "Epoch 35/100\n",
            "106/106 [==============================] - 1s 13ms/step - loss: 8.6354e-04\n",
            "Epoch 36/100\n",
            "106/106 [==============================] - 1s 13ms/step - loss: 9.5354e-04\n",
            "Epoch 37/100\n",
            "106/106 [==============================] - 1s 14ms/step - loss: 9.0708e-04\n",
            "Epoch 38/100\n",
            "106/106 [==============================] - 1s 13ms/step - loss: 9.1662e-04\n",
            "Epoch 39/100\n",
            "106/106 [==============================] - 1s 13ms/step - loss: 8.0526e-04\n",
            "Epoch 40/100\n",
            "106/106 [==============================] - 1s 14ms/step - loss: 9.2520e-04\n",
            "Epoch 41/100\n",
            "106/106 [==============================] - 1s 14ms/step - loss: 9.0396e-04\n",
            "Epoch 42/100\n",
            "106/106 [==============================] - 2s 19ms/step - loss: 8.3412e-04\n",
            "Epoch 43/100\n",
            "106/106 [==============================] - 1s 14ms/step - loss: 7.9768e-04\n",
            "Epoch 44/100\n",
            "106/106 [==============================] - 1s 13ms/step - loss: 8.4298e-04\n",
            "Epoch 45/100\n",
            "106/106 [==============================] - 1s 13ms/step - loss: 8.5036e-04\n",
            "Epoch 46/100\n",
            "106/106 [==============================] - 1s 13ms/step - loss: 8.9797e-04\n",
            "Epoch 47/100\n",
            "106/106 [==============================] - 1s 13ms/step - loss: 9.9252e-04\n",
            "Epoch 48/100\n",
            "106/106 [==============================] - 1s 13ms/step - loss: 9.5614e-04\n",
            "Epoch 49/100\n",
            "106/106 [==============================] - 1s 14ms/step - loss: 8.7105e-04\n",
            "Epoch 50/100\n",
            "106/106 [==============================] - 2s 17ms/step - loss: 8.1550e-04\n",
            "Epoch 51/100\n",
            "106/106 [==============================] - 2s 16ms/step - loss: 0.0011\n",
            "Epoch 52/100\n",
            "106/106 [==============================] - 1s 13ms/step - loss: 8.4889e-04\n",
            "Epoch 53/100\n",
            "106/106 [==============================] - 1s 13ms/step - loss: 8.8322e-04\n",
            "Epoch 54/100\n",
            "106/106 [==============================] - 1s 14ms/step - loss: 8.7234e-04\n",
            "Epoch 55/100\n",
            "106/106 [==============================] - 1s 13ms/step - loss: 8.0050e-04\n",
            "Epoch 56/100\n",
            "106/106 [==============================] - 1s 14ms/step - loss: 7.9215e-04\n",
            "Epoch 57/100\n",
            "106/106 [==============================] - 1s 14ms/step - loss: 8.3794e-04\n",
            "Epoch 58/100\n",
            "106/106 [==============================] - 2s 16ms/step - loss: 8.0303e-04\n",
            "Epoch 59/100\n",
            "106/106 [==============================] - 2s 17ms/step - loss: 9.2831e-04\n",
            "Epoch 60/100\n",
            "106/106 [==============================] - 1s 13ms/step - loss: 8.2140e-04\n",
            "Epoch 61/100\n",
            "106/106 [==============================] - 1s 13ms/step - loss: 9.1206e-04\n",
            "Epoch 62/100\n",
            "106/106 [==============================] - 1s 13ms/step - loss: 7.5912e-04\n",
            "Epoch 63/100\n",
            "106/106 [==============================] - 1s 13ms/step - loss: 8.1645e-04\n",
            "Epoch 64/100\n",
            "106/106 [==============================] - 1s 13ms/step - loss: 8.1016e-04\n",
            "Epoch 65/100\n",
            "106/106 [==============================] - 1s 13ms/step - loss: 7.9088e-04\n",
            "Epoch 66/100\n",
            "106/106 [==============================] - 2s 15ms/step - loss: 8.2070e-04\n",
            "Epoch 67/100\n",
            "106/106 [==============================] - 2s 17ms/step - loss: 7.9227e-04\n",
            "Epoch 68/100\n",
            "106/106 [==============================] - 2s 14ms/step - loss: 9.3427e-04\n",
            "Epoch 69/100\n",
            "106/106 [==============================] - 1s 13ms/step - loss: 8.2635e-04\n",
            "Epoch 70/100\n",
            "106/106 [==============================] - 1s 13ms/step - loss: 8.0295e-04\n",
            "Epoch 71/100\n",
            "106/106 [==============================] - 1s 13ms/step - loss: 7.4852e-04\n",
            "Epoch 72/100\n",
            "106/106 [==============================] - 1s 13ms/step - loss: 7.2840e-04\n",
            "Epoch 73/100\n",
            "106/106 [==============================] - 1s 13ms/step - loss: 8.3739e-04\n",
            "Epoch 74/100\n",
            "106/106 [==============================] - 1s 14ms/step - loss: 8.0246e-04\n",
            "Epoch 75/100\n",
            "106/106 [==============================] - 2s 18ms/step - loss: 7.7689e-04\n",
            "Epoch 76/100\n",
            "106/106 [==============================] - 2s 16ms/step - loss: 7.7441e-04\n",
            "Epoch 77/100\n",
            "106/106 [==============================] - 1s 13ms/step - loss: 7.0775e-04\n",
            "Epoch 78/100\n",
            "106/106 [==============================] - 1s 13ms/step - loss: 7.3227e-04\n",
            "Epoch 79/100\n",
            "106/106 [==============================] - 1s 13ms/step - loss: 7.0972e-04\n",
            "Epoch 80/100\n",
            "106/106 [==============================] - 1s 13ms/step - loss: 6.7876e-04\n",
            "Epoch 81/100\n",
            "106/106 [==============================] - 1s 13ms/step - loss: 7.5502e-04\n",
            "Epoch 82/100\n",
            "106/106 [==============================] - 1s 13ms/step - loss: 7.2628e-04\n",
            "Epoch 83/100\n",
            "106/106 [==============================] - 2s 15ms/step - loss: 7.9398e-04\n",
            "Epoch 84/100\n",
            "106/106 [==============================] - 2s 18ms/step - loss: 8.2121e-04\n",
            "Epoch 85/100\n",
            "106/106 [==============================] - 1s 13ms/step - loss: 7.8449e-04\n",
            "Epoch 86/100\n",
            "106/106 [==============================] - 1s 13ms/step - loss: 8.4190e-04\n",
            "Epoch 87/100\n",
            "106/106 [==============================] - 1s 13ms/step - loss: 7.1984e-04\n",
            "Epoch 88/100\n",
            "106/106 [==============================] - 1s 13ms/step - loss: 7.6882e-04\n",
            "Epoch 89/100\n",
            "106/106 [==============================] - 1s 14ms/step - loss: 7.7212e-04\n",
            "Epoch 90/100\n",
            "106/106 [==============================] - 1s 14ms/step - loss: 7.1652e-04\n",
            "Epoch 91/100\n",
            "106/106 [==============================] - 1s 13ms/step - loss: 7.4851e-04\n",
            "Epoch 92/100\n",
            "106/106 [==============================] - 2s 18ms/step - loss: 6.8666e-04\n",
            "Epoch 93/100\n",
            "106/106 [==============================] - 1s 14ms/step - loss: 7.5664e-04\n",
            "Epoch 94/100\n",
            "106/106 [==============================] - 1s 13ms/step - loss: 7.3146e-04\n",
            "Epoch 95/100\n",
            "106/106 [==============================] - 1s 13ms/step - loss: 7.2279e-04\n",
            "Epoch 96/100\n",
            "106/106 [==============================] - 1s 13ms/step - loss: 6.8888e-04\n",
            "Epoch 97/100\n",
            "106/106 [==============================] - 1s 14ms/step - loss: 6.8288e-04\n",
            "Epoch 98/100\n",
            "106/106 [==============================] - 1s 13ms/step - loss: 7.3789e-04\n",
            "Epoch 99/100\n",
            "106/106 [==============================] - 1s 13ms/step - loss: 7.2094e-04\n",
            "Epoch 100/100\n",
            "106/106 [==============================] - 3s 25ms/step - loss: 7.3911e-04\n"
          ]
        },
        {
          "output_type": "execute_result",
          "data": {
            "text/plain": [
              "<keras.src.callbacks.History at 0x7b79c0663340>"
            ]
          },
          "metadata": {},
          "execution_count": 25
        }
      ]
    },
    {
      "cell_type": "markdown",
      "metadata": {
        "id": "4hRau_lIkrE8"
      },
      "source": [
        "## Part 3 - Making the predictions and visualising the results"
      ]
    },
    {
      "cell_type": "markdown",
      "metadata": {
        "id": "SgJO6qEDksxD"
      },
      "source": [
        "# Getting the predicted stock price of Aug 2023"
      ]
    },
    {
      "cell_type": "code",
      "metadata": {
        "id": "FmBT2zqukxTz"
      },
      "source": [
        "dataset_test = pd.read_csv('MSFT_Test.csv')\n",
        "real_stock_price = dataset_test.iloc[:, 1:2].values"
      ],
      "execution_count": 26,
      "outputs": []
    },
    {
      "cell_type": "code",
      "source": [
        "dataset_test"
      ],
      "metadata": {
        "id": "44UPR2by2S-M",
        "outputId": "b1c6c6ab-65e8-4063-fc3d-54ceb8f2199a",
        "colab": {
          "base_uri": "https://localhost:8080/",
          "height": 676
        }
      },
      "execution_count": 27,
      "outputs": [
        {
          "output_type": "execute_result",
          "data": {
            "text/plain": [
              "          Date        Open        High         Low       Close   Adj Close  \\\n",
              "0   01-08-2023  335.190002  338.540009  333.700012  336.339996  335.629395   \n",
              "1   02-08-2023  333.630005  333.630005  326.359985  327.500000  326.808075   \n",
              "2   03-08-2023  326.000000  329.880005  325.950012  326.660004  325.969849   \n",
              "3   04-08-2023  331.880005  335.140015  327.239990  327.779999  327.087494   \n",
              "4   07-08-2023  328.369995  331.109985  327.519989  330.109985  329.412537   \n",
              "5   08-08-2023  326.959991  328.750000  323.000000  326.049988  325.361115   \n",
              "6   09-08-2023  326.470001  327.109985  321.049988  322.230011  321.549225   \n",
              "7   10-08-2023  326.019989  328.260010  321.179993  322.929993  322.247711   \n",
              "8   11-08-2023  320.260010  322.410004  319.209991  321.010010  320.331787   \n",
              "9   14-08-2023  321.390015  324.059998  320.079987  324.040009  323.355408   \n",
              "10  15-08-2023  323.000000  325.089996  320.899994  321.859985  321.179962   \n",
              "11  16-08-2023  320.799988  324.420013  319.799988  320.399994  320.399994   \n",
              "12  17-08-2023  320.540009  321.869995  316.209991  316.880005  316.880005   \n",
              "13  18-08-2023  314.489990  318.380005  311.549988  316.480011  316.480011   \n",
              "14  21-08-2023  317.929993  322.769989  317.040009  321.880005  321.880005   \n",
              "15  22-08-2023  325.500000  326.079987  321.459991  322.459991  322.459991   \n",
              "16  23-08-2023  323.820007  329.200012  323.459991  327.000000  327.000000   \n",
              "17  24-08-2023  332.850006  332.980011  319.959991  319.970001  319.970001   \n",
              "18  25-08-2023  321.470001  325.359985  318.799988  322.980011  322.980011   \n",
              "19  28-08-2023  325.660004  326.149994  321.720001  323.700012  323.700012   \n",
              "\n",
              "      Volume  \n",
              "0   18311900  \n",
              "1   27761300  \n",
              "2   18253700  \n",
              "3   23727700  \n",
              "4   17741500  \n",
              "5   22327600  \n",
              "6   22373300  \n",
              "7   20113700  \n",
              "8   24342600  \n",
              "9   18836100  \n",
              "10  16966300  \n",
              "11  20698900  \n",
              "12  21257200  \n",
              "13  24744800  \n",
              "14  24040000  \n",
              "15  16102000  \n",
              "16  21166400  \n",
              "17  23281400  \n",
              "18  21684100  \n",
              "19  14808500  "
            ],
            "text/html": [
              "\n",
              "  <div id=\"df-21b13507-dcef-4e5d-b2b4-01c88ae3b3e3\" class=\"colab-df-container\">\n",
              "    <div>\n",
              "<style scoped>\n",
              "    .dataframe tbody tr th:only-of-type {\n",
              "        vertical-align: middle;\n",
              "    }\n",
              "\n",
              "    .dataframe tbody tr th {\n",
              "        vertical-align: top;\n",
              "    }\n",
              "\n",
              "    .dataframe thead th {\n",
              "        text-align: right;\n",
              "    }\n",
              "</style>\n",
              "<table border=\"1\" class=\"dataframe\">\n",
              "  <thead>\n",
              "    <tr style=\"text-align: right;\">\n",
              "      <th></th>\n",
              "      <th>Date</th>\n",
              "      <th>Open</th>\n",
              "      <th>High</th>\n",
              "      <th>Low</th>\n",
              "      <th>Close</th>\n",
              "      <th>Adj Close</th>\n",
              "      <th>Volume</th>\n",
              "    </tr>\n",
              "  </thead>\n",
              "  <tbody>\n",
              "    <tr>\n",
              "      <th>0</th>\n",
              "      <td>01-08-2023</td>\n",
              "      <td>335.190002</td>\n",
              "      <td>338.540009</td>\n",
              "      <td>333.700012</td>\n",
              "      <td>336.339996</td>\n",
              "      <td>335.629395</td>\n",
              "      <td>18311900</td>\n",
              "    </tr>\n",
              "    <tr>\n",
              "      <th>1</th>\n",
              "      <td>02-08-2023</td>\n",
              "      <td>333.630005</td>\n",
              "      <td>333.630005</td>\n",
              "      <td>326.359985</td>\n",
              "      <td>327.500000</td>\n",
              "      <td>326.808075</td>\n",
              "      <td>27761300</td>\n",
              "    </tr>\n",
              "    <tr>\n",
              "      <th>2</th>\n",
              "      <td>03-08-2023</td>\n",
              "      <td>326.000000</td>\n",
              "      <td>329.880005</td>\n",
              "      <td>325.950012</td>\n",
              "      <td>326.660004</td>\n",
              "      <td>325.969849</td>\n",
              "      <td>18253700</td>\n",
              "    </tr>\n",
              "    <tr>\n",
              "      <th>3</th>\n",
              "      <td>04-08-2023</td>\n",
              "      <td>331.880005</td>\n",
              "      <td>335.140015</td>\n",
              "      <td>327.239990</td>\n",
              "      <td>327.779999</td>\n",
              "      <td>327.087494</td>\n",
              "      <td>23727700</td>\n",
              "    </tr>\n",
              "    <tr>\n",
              "      <th>4</th>\n",
              "      <td>07-08-2023</td>\n",
              "      <td>328.369995</td>\n",
              "      <td>331.109985</td>\n",
              "      <td>327.519989</td>\n",
              "      <td>330.109985</td>\n",
              "      <td>329.412537</td>\n",
              "      <td>17741500</td>\n",
              "    </tr>\n",
              "    <tr>\n",
              "      <th>5</th>\n",
              "      <td>08-08-2023</td>\n",
              "      <td>326.959991</td>\n",
              "      <td>328.750000</td>\n",
              "      <td>323.000000</td>\n",
              "      <td>326.049988</td>\n",
              "      <td>325.361115</td>\n",
              "      <td>22327600</td>\n",
              "    </tr>\n",
              "    <tr>\n",
              "      <th>6</th>\n",
              "      <td>09-08-2023</td>\n",
              "      <td>326.470001</td>\n",
              "      <td>327.109985</td>\n",
              "      <td>321.049988</td>\n",
              "      <td>322.230011</td>\n",
              "      <td>321.549225</td>\n",
              "      <td>22373300</td>\n",
              "    </tr>\n",
              "    <tr>\n",
              "      <th>7</th>\n",
              "      <td>10-08-2023</td>\n",
              "      <td>326.019989</td>\n",
              "      <td>328.260010</td>\n",
              "      <td>321.179993</td>\n",
              "      <td>322.929993</td>\n",
              "      <td>322.247711</td>\n",
              "      <td>20113700</td>\n",
              "    </tr>\n",
              "    <tr>\n",
              "      <th>8</th>\n",
              "      <td>11-08-2023</td>\n",
              "      <td>320.260010</td>\n",
              "      <td>322.410004</td>\n",
              "      <td>319.209991</td>\n",
              "      <td>321.010010</td>\n",
              "      <td>320.331787</td>\n",
              "      <td>24342600</td>\n",
              "    </tr>\n",
              "    <tr>\n",
              "      <th>9</th>\n",
              "      <td>14-08-2023</td>\n",
              "      <td>321.390015</td>\n",
              "      <td>324.059998</td>\n",
              "      <td>320.079987</td>\n",
              "      <td>324.040009</td>\n",
              "      <td>323.355408</td>\n",
              "      <td>18836100</td>\n",
              "    </tr>\n",
              "    <tr>\n",
              "      <th>10</th>\n",
              "      <td>15-08-2023</td>\n",
              "      <td>323.000000</td>\n",
              "      <td>325.089996</td>\n",
              "      <td>320.899994</td>\n",
              "      <td>321.859985</td>\n",
              "      <td>321.179962</td>\n",
              "      <td>16966300</td>\n",
              "    </tr>\n",
              "    <tr>\n",
              "      <th>11</th>\n",
              "      <td>16-08-2023</td>\n",
              "      <td>320.799988</td>\n",
              "      <td>324.420013</td>\n",
              "      <td>319.799988</td>\n",
              "      <td>320.399994</td>\n",
              "      <td>320.399994</td>\n",
              "      <td>20698900</td>\n",
              "    </tr>\n",
              "    <tr>\n",
              "      <th>12</th>\n",
              "      <td>17-08-2023</td>\n",
              "      <td>320.540009</td>\n",
              "      <td>321.869995</td>\n",
              "      <td>316.209991</td>\n",
              "      <td>316.880005</td>\n",
              "      <td>316.880005</td>\n",
              "      <td>21257200</td>\n",
              "    </tr>\n",
              "    <tr>\n",
              "      <th>13</th>\n",
              "      <td>18-08-2023</td>\n",
              "      <td>314.489990</td>\n",
              "      <td>318.380005</td>\n",
              "      <td>311.549988</td>\n",
              "      <td>316.480011</td>\n",
              "      <td>316.480011</td>\n",
              "      <td>24744800</td>\n",
              "    </tr>\n",
              "    <tr>\n",
              "      <th>14</th>\n",
              "      <td>21-08-2023</td>\n",
              "      <td>317.929993</td>\n",
              "      <td>322.769989</td>\n",
              "      <td>317.040009</td>\n",
              "      <td>321.880005</td>\n",
              "      <td>321.880005</td>\n",
              "      <td>24040000</td>\n",
              "    </tr>\n",
              "    <tr>\n",
              "      <th>15</th>\n",
              "      <td>22-08-2023</td>\n",
              "      <td>325.500000</td>\n",
              "      <td>326.079987</td>\n",
              "      <td>321.459991</td>\n",
              "      <td>322.459991</td>\n",
              "      <td>322.459991</td>\n",
              "      <td>16102000</td>\n",
              "    </tr>\n",
              "    <tr>\n",
              "      <th>16</th>\n",
              "      <td>23-08-2023</td>\n",
              "      <td>323.820007</td>\n",
              "      <td>329.200012</td>\n",
              "      <td>323.459991</td>\n",
              "      <td>327.000000</td>\n",
              "      <td>327.000000</td>\n",
              "      <td>21166400</td>\n",
              "    </tr>\n",
              "    <tr>\n",
              "      <th>17</th>\n",
              "      <td>24-08-2023</td>\n",
              "      <td>332.850006</td>\n",
              "      <td>332.980011</td>\n",
              "      <td>319.959991</td>\n",
              "      <td>319.970001</td>\n",
              "      <td>319.970001</td>\n",
              "      <td>23281400</td>\n",
              "    </tr>\n",
              "    <tr>\n",
              "      <th>18</th>\n",
              "      <td>25-08-2023</td>\n",
              "      <td>321.470001</td>\n",
              "      <td>325.359985</td>\n",
              "      <td>318.799988</td>\n",
              "      <td>322.980011</td>\n",
              "      <td>322.980011</td>\n",
              "      <td>21684100</td>\n",
              "    </tr>\n",
              "    <tr>\n",
              "      <th>19</th>\n",
              "      <td>28-08-2023</td>\n",
              "      <td>325.660004</td>\n",
              "      <td>326.149994</td>\n",
              "      <td>321.720001</td>\n",
              "      <td>323.700012</td>\n",
              "      <td>323.700012</td>\n",
              "      <td>14808500</td>\n",
              "    </tr>\n",
              "  </tbody>\n",
              "</table>\n",
              "</div>\n",
              "    <div class=\"colab-df-buttons\">\n",
              "\n",
              "  <div class=\"colab-df-container\">\n",
              "    <button class=\"colab-df-convert\" onclick=\"convertToInteractive('df-21b13507-dcef-4e5d-b2b4-01c88ae3b3e3')\"\n",
              "            title=\"Convert this dataframe to an interactive table.\"\n",
              "            style=\"display:none;\">\n",
              "\n",
              "  <svg xmlns=\"http://www.w3.org/2000/svg\" height=\"24px\" viewBox=\"0 -960 960 960\">\n",
              "    <path d=\"M120-120v-720h720v720H120Zm60-500h600v-160H180v160Zm220 220h160v-160H400v160Zm0 220h160v-160H400v160ZM180-400h160v-160H180v160Zm440 0h160v-160H620v160ZM180-180h160v-160H180v160Zm440 0h160v-160H620v160Z\"/>\n",
              "  </svg>\n",
              "    </button>\n",
              "\n",
              "  <style>\n",
              "    .colab-df-container {\n",
              "      display:flex;\n",
              "      gap: 12px;\n",
              "    }\n",
              "\n",
              "    .colab-df-convert {\n",
              "      background-color: #E8F0FE;\n",
              "      border: none;\n",
              "      border-radius: 50%;\n",
              "      cursor: pointer;\n",
              "      display: none;\n",
              "      fill: #1967D2;\n",
              "      height: 32px;\n",
              "      padding: 0 0 0 0;\n",
              "      width: 32px;\n",
              "    }\n",
              "\n",
              "    .colab-df-convert:hover {\n",
              "      background-color: #E2EBFA;\n",
              "      box-shadow: 0px 1px 2px rgba(60, 64, 67, 0.3), 0px 1px 3px 1px rgba(60, 64, 67, 0.15);\n",
              "      fill: #174EA6;\n",
              "    }\n",
              "\n",
              "    .colab-df-buttons div {\n",
              "      margin-bottom: 4px;\n",
              "    }\n",
              "\n",
              "    [theme=dark] .colab-df-convert {\n",
              "      background-color: #3B4455;\n",
              "      fill: #D2E3FC;\n",
              "    }\n",
              "\n",
              "    [theme=dark] .colab-df-convert:hover {\n",
              "      background-color: #434B5C;\n",
              "      box-shadow: 0px 1px 3px 1px rgba(0, 0, 0, 0.15);\n",
              "      filter: drop-shadow(0px 1px 2px rgba(0, 0, 0, 0.3));\n",
              "      fill: #FFFFFF;\n",
              "    }\n",
              "  </style>\n",
              "\n",
              "    <script>\n",
              "      const buttonEl =\n",
              "        document.querySelector('#df-21b13507-dcef-4e5d-b2b4-01c88ae3b3e3 button.colab-df-convert');\n",
              "      buttonEl.style.display =\n",
              "        google.colab.kernel.accessAllowed ? 'block' : 'none';\n",
              "\n",
              "      async function convertToInteractive(key) {\n",
              "        const element = document.querySelector('#df-21b13507-dcef-4e5d-b2b4-01c88ae3b3e3');\n",
              "        const dataTable =\n",
              "          await google.colab.kernel.invokeFunction('convertToInteractive',\n",
              "                                                    [key], {});\n",
              "        if (!dataTable) return;\n",
              "\n",
              "        const docLinkHtml = 'Like what you see? Visit the ' +\n",
              "          '<a target=\"_blank\" href=https://colab.research.google.com/notebooks/data_table.ipynb>data table notebook</a>'\n",
              "          + ' to learn more about interactive tables.';\n",
              "        element.innerHTML = '';\n",
              "        dataTable['output_type'] = 'display_data';\n",
              "        await google.colab.output.renderOutput(dataTable, element);\n",
              "        const docLink = document.createElement('div');\n",
              "        docLink.innerHTML = docLinkHtml;\n",
              "        element.appendChild(docLink);\n",
              "      }\n",
              "    </script>\n",
              "  </div>\n",
              "\n",
              "\n",
              "<div id=\"df-f6f41661-bf2f-4be3-a895-942676399e2f\">\n",
              "  <button class=\"colab-df-quickchart\" onclick=\"quickchart('df-f6f41661-bf2f-4be3-a895-942676399e2f')\"\n",
              "            title=\"Suggest charts.\"\n",
              "            style=\"display:none;\">\n",
              "\n",
              "<svg xmlns=\"http://www.w3.org/2000/svg\" height=\"24px\"viewBox=\"0 0 24 24\"\n",
              "     width=\"24px\">\n",
              "    <g>\n",
              "        <path d=\"M19 3H5c-1.1 0-2 .9-2 2v14c0 1.1.9 2 2 2h14c1.1 0 2-.9 2-2V5c0-1.1-.9-2-2-2zM9 17H7v-7h2v7zm4 0h-2V7h2v10zm4 0h-2v-4h2v4z\"/>\n",
              "    </g>\n",
              "</svg>\n",
              "  </button>\n",
              "\n",
              "<style>\n",
              "  .colab-df-quickchart {\n",
              "      --bg-color: #E8F0FE;\n",
              "      --fill-color: #1967D2;\n",
              "      --hover-bg-color: #E2EBFA;\n",
              "      --hover-fill-color: #174EA6;\n",
              "      --disabled-fill-color: #AAA;\n",
              "      --disabled-bg-color: #DDD;\n",
              "  }\n",
              "\n",
              "  [theme=dark] .colab-df-quickchart {\n",
              "      --bg-color: #3B4455;\n",
              "      --fill-color: #D2E3FC;\n",
              "      --hover-bg-color: #434B5C;\n",
              "      --hover-fill-color: #FFFFFF;\n",
              "      --disabled-bg-color: #3B4455;\n",
              "      --disabled-fill-color: #666;\n",
              "  }\n",
              "\n",
              "  .colab-df-quickchart {\n",
              "    background-color: var(--bg-color);\n",
              "    border: none;\n",
              "    border-radius: 50%;\n",
              "    cursor: pointer;\n",
              "    display: none;\n",
              "    fill: var(--fill-color);\n",
              "    height: 32px;\n",
              "    padding: 0;\n",
              "    width: 32px;\n",
              "  }\n",
              "\n",
              "  .colab-df-quickchart:hover {\n",
              "    background-color: var(--hover-bg-color);\n",
              "    box-shadow: 0 1px 2px rgba(60, 64, 67, 0.3), 0 1px 3px 1px rgba(60, 64, 67, 0.15);\n",
              "    fill: var(--button-hover-fill-color);\n",
              "  }\n",
              "\n",
              "  .colab-df-quickchart-complete:disabled,\n",
              "  .colab-df-quickchart-complete:disabled:hover {\n",
              "    background-color: var(--disabled-bg-color);\n",
              "    fill: var(--disabled-fill-color);\n",
              "    box-shadow: none;\n",
              "  }\n",
              "\n",
              "  .colab-df-spinner {\n",
              "    border: 2px solid var(--fill-color);\n",
              "    border-color: transparent;\n",
              "    border-bottom-color: var(--fill-color);\n",
              "    animation:\n",
              "      spin 1s steps(1) infinite;\n",
              "  }\n",
              "\n",
              "  @keyframes spin {\n",
              "    0% {\n",
              "      border-color: transparent;\n",
              "      border-bottom-color: var(--fill-color);\n",
              "      border-left-color: var(--fill-color);\n",
              "    }\n",
              "    20% {\n",
              "      border-color: transparent;\n",
              "      border-left-color: var(--fill-color);\n",
              "      border-top-color: var(--fill-color);\n",
              "    }\n",
              "    30% {\n",
              "      border-color: transparent;\n",
              "      border-left-color: var(--fill-color);\n",
              "      border-top-color: var(--fill-color);\n",
              "      border-right-color: var(--fill-color);\n",
              "    }\n",
              "    40% {\n",
              "      border-color: transparent;\n",
              "      border-right-color: var(--fill-color);\n",
              "      border-top-color: var(--fill-color);\n",
              "    }\n",
              "    60% {\n",
              "      border-color: transparent;\n",
              "      border-right-color: var(--fill-color);\n",
              "    }\n",
              "    80% {\n",
              "      border-color: transparent;\n",
              "      border-right-color: var(--fill-color);\n",
              "      border-bottom-color: var(--fill-color);\n",
              "    }\n",
              "    90% {\n",
              "      border-color: transparent;\n",
              "      border-bottom-color: var(--fill-color);\n",
              "    }\n",
              "  }\n",
              "</style>\n",
              "\n",
              "  <script>\n",
              "    async function quickchart(key) {\n",
              "      const quickchartButtonEl =\n",
              "        document.querySelector('#' + key + ' button');\n",
              "      quickchartButtonEl.disabled = true;  // To prevent multiple clicks.\n",
              "      quickchartButtonEl.classList.add('colab-df-spinner');\n",
              "      try {\n",
              "        const charts = await google.colab.kernel.invokeFunction(\n",
              "            'suggestCharts', [key], {});\n",
              "      } catch (error) {\n",
              "        console.error('Error during call to suggestCharts:', error);\n",
              "      }\n",
              "      quickchartButtonEl.classList.remove('colab-df-spinner');\n",
              "      quickchartButtonEl.classList.add('colab-df-quickchart-complete');\n",
              "    }\n",
              "    (() => {\n",
              "      let quickchartButtonEl =\n",
              "        document.querySelector('#df-f6f41661-bf2f-4be3-a895-942676399e2f button');\n",
              "      quickchartButtonEl.style.display =\n",
              "        google.colab.kernel.accessAllowed ? 'block' : 'none';\n",
              "    })();\n",
              "  </script>\n",
              "</div>\n",
              "    </div>\n",
              "  </div>\n"
            ]
          },
          "metadata": {},
          "execution_count": 27
        }
      ]
    },
    {
      "cell_type": "code",
      "source": [
        "real_stock_price"
      ],
      "metadata": {
        "id": "yf1qe1Pv2Vh0",
        "outputId": "93f0f4fb-af32-4f3a-a890-e49e02f53a11",
        "colab": {
          "base_uri": "https://localhost:8080/"
        }
      },
      "execution_count": 28,
      "outputs": [
        {
          "output_type": "execute_result",
          "data": {
            "text/plain": [
              "array([[335.190002],\n",
              "       [333.630005],\n",
              "       [326.      ],\n",
              "       [331.880005],\n",
              "       [328.369995],\n",
              "       [326.959991],\n",
              "       [326.470001],\n",
              "       [326.019989],\n",
              "       [320.26001 ],\n",
              "       [321.390015],\n",
              "       [323.      ],\n",
              "       [320.799988],\n",
              "       [320.540009],\n",
              "       [314.48999 ],\n",
              "       [317.929993],\n",
              "       [325.5     ],\n",
              "       [323.820007],\n",
              "       [332.850006],\n",
              "       [321.470001],\n",
              "       [325.660004]])"
            ]
          },
          "metadata": {},
          "execution_count": 28
        }
      ]
    },
    {
      "cell_type": "markdown",
      "metadata": {
        "id": "GrvrLblxkz42"
      },
      "source": [
        "# Getting the predicted stock price of Aug 2023"
      ]
    },
    {
      "cell_type": "code",
      "metadata": {
        "id": "emikTvUpk3Ck",
        "colab": {
          "base_uri": "https://localhost:8080/"
        },
        "outputId": "e661d3d7-61e2-42b6-935d-3c895ee251f5"
      },
      "source": [
        "dataset_total = pd.concat((dataset_train['Open'], dataset_test['Open']), axis = 0)\n",
        "inputs = dataset_total[len(dataset_total) - len(dataset_test) - 60:].values\n",
        "inputs = inputs.reshape(-1,1)\n",
        "inputs = sc.transform(inputs)\n",
        "X_test = []\n",
        "for i in range(60, 80):\n",
        "    X_test.append(inputs[i-60:i, 0])\n",
        "X_test = np.array(X_test)\n",
        "X_test = np.reshape(X_test, (X_test.shape[0], X_test.shape[1], 1))\n",
        "predicted_stock_price = regressor.predict(X_test)\n",
        "predicted_stock_price = sc.inverse_transform(predicted_stock_price)"
      ],
      "execution_count": 29,
      "outputs": [
        {
          "output_type": "stream",
          "name": "stdout",
          "text": [
            "1/1 [==============================] - 1s 1s/step\n"
          ]
        }
      ]
    },
    {
      "cell_type": "code",
      "source": [
        "X_test.shape"
      ],
      "metadata": {
        "id": "_Fq60YrF56Jh",
        "outputId": "eef9e968-d764-4db9-e16e-bcbc64d6a26f",
        "colab": {
          "base_uri": "https://localhost:8080/"
        }
      },
      "execution_count": 30,
      "outputs": [
        {
          "output_type": "execute_result",
          "data": {
            "text/plain": [
              "(20, 60, 1)"
            ]
          },
          "metadata": {},
          "execution_count": 30
        }
      ]
    },
    {
      "cell_type": "code",
      "source": [
        "predicted_stock_price"
      ],
      "metadata": {
        "id": "yH71kVpx4apu",
        "outputId": "78913134-f0c7-40db-d10b-c5a9946012a2",
        "colab": {
          "base_uri": "https://localhost:8080/"
        }
      },
      "execution_count": 31,
      "outputs": [
        {
          "output_type": "execute_result",
          "data": {
            "text/plain": [
              "array([[324.40237],\n",
              "       [325.01392],\n",
              "       [325.13766],\n",
              "       [323.96393],\n",
              "       [323.50027],\n",
              "       [323.00443],\n",
              "       [322.2566 ],\n",
              "       [321.46494],\n",
              "       [320.71564],\n",
              "       [319.16846],\n",
              "       [317.79272],\n",
              "       [317.1124 ],\n",
              "       [316.4459 ],\n",
              "       [315.8214 ],\n",
              "       [314.2847 ],\n",
              "       [313.32858],\n",
              "       [314.2321 ],\n",
              "       [315.28598],\n",
              "       [317.5917 ],\n",
              "       [317.7911 ]], dtype=float32)"
            ]
          },
          "metadata": {},
          "execution_count": 31
        }
      ]
    },
    {
      "cell_type": "code",
      "source": [
        "predicted_stock_price.shape"
      ],
      "metadata": {
        "id": "xtLsvM0j5Tqj",
        "outputId": "061208d3-3e8b-4f27-f3fe-129b760bf7ff",
        "colab": {
          "base_uri": "https://localhost:8080/"
        }
      },
      "execution_count": 32,
      "outputs": [
        {
          "output_type": "execute_result",
          "data": {
            "text/plain": [
              "(20, 1)"
            ]
          },
          "metadata": {},
          "execution_count": 32
        }
      ]
    },
    {
      "cell_type": "code",
      "source": [
        "dataset_total"
      ],
      "metadata": {
        "id": "1jaftRa93Hnn",
        "outputId": "32c6d7ee-bc5b-4dac-f2cf-2c056be403da",
        "colab": {
          "base_uri": "https://localhost:8080/"
        }
      },
      "execution_count": 33,
      "outputs": [
        {
          "output_type": "execute_result",
          "data": {
            "text/plain": [
              "0      30.620001\n",
              "1      30.850000\n",
              "2      30.879999\n",
              "3      30.629999\n",
              "4      30.280001\n",
              "         ...    \n",
              "15    325.500000\n",
              "16    323.820007\n",
              "17    332.850006\n",
              "18    321.470001\n",
              "19    325.660004\n",
              "Name: Open, Length: 3466, dtype: float64"
            ]
          },
          "metadata": {},
          "execution_count": 33
        }
      ]
    },
    {
      "cell_type": "markdown",
      "metadata": {
        "id": "iFTNs3YHk6FQ"
      },
      "source": [
        "### Visualising the results"
      ]
    },
    {
      "cell_type": "code",
      "metadata": {
        "id": "8OUI8U49k9tH",
        "colab": {
          "base_uri": "https://localhost:8080/",
          "height": 472
        },
        "outputId": "19c09957-8239-4d73-9ce3-7adefa5ca3f6"
      },
      "source": [
        "plt.plot(real_stock_price, color = 'red', label = 'Real Microsoft Stock Price')\n",
        "plt.plot(predicted_stock_price, color = 'blue', label = 'Predicted Microsoft Stock Price')\n",
        "plt.title('Microsoft Corporation Stock Price Prediction')\n",
        "plt.xlabel('Time')\n",
        "plt.ylabel('Microsoft Corporation Stock Price')\n",
        "plt.legend()\n",
        "plt.show()"
      ],
      "execution_count": 34,
      "outputs": [
        {
          "output_type": "display_data",
          "data": {
            "text/plain": [
              "<Figure size 640x480 with 1 Axes>"
            ],
            "image/png": "[encoded data removed]"
          },
          "metadata": {}
        }
      ]
    }
  ]
}